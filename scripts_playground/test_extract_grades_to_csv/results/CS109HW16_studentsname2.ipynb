{
 "cells": [
  {
   "cell_type": "markdown",
   "metadata": {},
   "source": [
    "# <img style=\"float: left; padding-right: 10px; width: 45px\" src=\"https://raw.githubusercontent.com/Harvard-IACS/2018-CS109A/master/content/styles/iacs.png\"> CS109A Introduction to Data Science: \n",
    "\n",
    "\n",
    "## Homework 9:  ANNs\n",
    "\n",
    "\n",
    "**Harvard University**<br/>\n",
    "**Fall 2018**<br/>\n",
    "**Instructors**: Pavlos Protopapas, Kevin Rader<br/>\n",
    "\n",
    "\n",
    "<hr style=\"height:2pt\">\n",
    "\n"
   ]
  },
  {
   "cell_type": "code",
   "execution_count": 1,
   "metadata": {},
   "outputs": [
    {
     "data": {
      "text/html": [
       "<style>\n",
       "blockquote { background: #AEDE94; }\n",
       "h1 { \n",
       "    padding-top: 25px;\n",
       "    padding-bottom: 25px;\n",
       "    text-align: left; \n",
       "    padding-left: 10px;\n",
       "    background-color: #DDDDDD; \n",
       "    color: black;\n",
       "}\n",
       "h2 { \n",
       "    padding-top: 10px;\n",
       "    padding-bottom: 10px;\n",
       "    text-align: left; \n",
       "    padding-left: 5px;\n",
       "    background-color: #EEEEEE; \n",
       "    color: black;\n",
       "}\n",
       "\n",
       "div.exercise {\n",
       "\tbackground-color: #ffcccc;\n",
       "\tborder-color: #E9967A; \t\n",
       "\tborder-left: 5px solid #800080; \n",
       "\tpadding: 0.5em;\n",
       "}\n",
       "div.theme {\n",
       "\tbackground-color: #DDDDDD;\n",
       "\tborder-color: #E9967A; \t\n",
       "\tborder-left: 5px solid #800080; \n",
       "\tpadding: 0.5em;\n",
       "\tfont-size: 18pt;\n",
       "}\n",
       "div.gc { \n",
       "\tbackground-color: #AEDE94;\n",
       "\tborder-color: #E9967A; \t \n",
       "\tborder-left: 5px solid #800080; \n",
       "\tpadding: 0.5em;\n",
       "\tfont-size: 12pt;\n",
       "}\n",
       "p.q1 { \n",
       "    padding-top: 5px;\n",
       "    padding-bottom: 5px;\n",
       "    text-align: left; \n",
       "    padding-left: 5px;\n",
       "    background-color: #EEEEEE; \n",
       "    color: black;\n",
       "}\n",
       "header {\n",
       "   padding-top: 35px;\n",
       "    padding-bottom: 35px;\n",
       "    text-align: left; \n",
       "    padding-left: 10px;\n",
       "    background-color: #DDDDDD; \n",
       "    color: black;\n",
       "}\n",
       "</style>\n",
       "\n"
      ],
      "text/plain": [
       "<IPython.core.display.HTML object>"
      ]
     },
     "execution_count": 1,
     "metadata": {},
     "output_type": "execute_result"
    }
   ],
   "source": [
    "# RUN THIS CELL FOR FORMAT\n",
    "import requests\n",
    "from IPython.core.display import HTML\n",
    "styles = requests.get(\"https://raw.githubusercontent.com/Harvard-IACS/2018-CS109A/master/content/styles/cs109.css\").text\n",
    "HTML(styles)"
   ]
  },
  {
   "cell_type": "markdown",
   "metadata": {},
   "source": [
    "## Assumed Skills:\n",
    "This assignment presumes knowledge of the following skills:\n",
    "- Familiarity with sklearn's model objects\n",
    "- Cross validation to estimate models' future performance\n",
    "- Booststrapping to build alternative datasets\n",
    "- Some instruction on Keras' interface for building and training neural networks"
   ]
  },
  {
   "cell_type": "markdown",
   "metadata": {},
   "source": [
    "> These skills do not seem right "
   ]
  },
  {
   "cell_type": "markdown",
   "metadata": {},
   "source": [
    "<font color='blue'>Q1 \n",
    "</font> <br/>\n",
    "<font color='red'>This is not so great \n",
    "</font> <br/>\n"
   ]
  },
  {
   "cell_type": "markdown",
   "metadata": {},
   "source": [
    "Import libraries:"
   ]
  },
  {
   "cell_type": "code",
   "execution_count": 2,
   "metadata": {},
   "outputs": [
    {
     "name": "stderr",
     "output_type": "stream",
     "text": [
      "Using TensorFlow backend.\n",
      "/Users/pavlos/anaconda3/lib/python3.6/importlib/_bootstrap.py:219: RuntimeWarning: compiletime version 3.5 of module 'tensorflow.python.framework.fast_tensor_util' does not match runtime version 3.6\n",
      "  return f(*args, **kwds)\n"
     ]
    }
   ],
   "source": [
    "import random\n",
    "random.seed(112358)\n",
    "\n",
    "import numpy as np\n",
    "import pandas as pd\n",
    "import matplotlib.pyplot as plt\n",
    "\n",
    "from sklearn.model_selection import cross_val_score\n",
    "from sklearn.utils import resample\n",
    "from sklearn.tree import DecisionTreeClassifier\n",
    "from sklearn.ensemble import RandomForestClassifier\n",
    "from sklearn.ensemble import AdaBoostClassifier\n",
    "from sklearn.linear_model import LogisticRegressionCV\n",
    "\n",
    "import keras \n",
    "from keras.models import Sequential\n",
    "from keras.layers import Dense\n",
    "\n",
    "%matplotlib inline\n",
    "\n",
    "import seaborn as sns\n",
    "pd.set_option('display.width', 1500)\n",
    "pd.set_option('display.max_columns', 100)\n",
    "\n",
    "from keras import regularizers\n",
    "\n",
    "\n",
    "from sklearn.utils import shuffle"
   ]
  },
  {
   "cell_type": "markdown",
   "metadata": {},
   "source": [
    "<hr style='height:2pt'>\n",
    "<div class='theme'> Neural Networks </div> \n",
    "\n",
    "Neural networks are, of course, a large and complex topic that cannot be covered in a single homework. Here we'll focus on the key idea of NNs: they are able to learn a mapping from example input data (of fixed size) to example output data (of fixed size). We'll also partially explore what patterns the neural network learns and how well they generalize.\n",
    "\n",
    "In this question we'll see if Neural Networks can learn a (limited) version of the Fourier Transform. (The Fourier Transform takes in values from some function and returns a set of sine and cosine functions which, when added together, approximate the original function.)\n",
    "> Give them the  general Fourier decomposition \n",
    "\n",
    "In our specific problem, we'll try to teach a network to map from  a function's 1000 sample y-values to the four features of the sine and cosine waves that make up that function. Thus, the network is attempting to learn a mapping from a 1000-entry vector down to a 4-entry vector. Our X_train dataset is thus N by 1000 and our y_train is N by 4. \n",
    "> Let's change the notation. y-values is the x_train ... \n",
    "\n",
    "We'll use 6 data files in this question:\n",
    "- `sinewaves_X_train.npy` and `sinewaves_y_train.npy`: a (10,000 by 1,000) and (10,000 by 4) training dataset. Examples were generated by randomly selecting a,b,c,d in the interval [0,1] and building the curve $a\\sin(b\\,x) + c\\cos(d\\,x)$\n",
    "- `sinewaves_X_test.npy` and `sinewaves_y_test.npy`: a (2,000 by 1,000) and (2,000 by 4) test dataset, generated in the same way as the training data\n",
    "- `sinewaves_X_extended_test` and `sinewaves_y_extended_test`: a (9 by 1,000) and (9 by 4) test dataset, testing whether the network can generalize beyond the training data (e.g. to negative values of $a$)\n",
    "\n",
    "**These datasets are read in to their respective variables for you.**"
   ]
  },
  {
   "cell_type": "markdown",
   "metadata": {},
   "source": [
    "<div class='exercise'> <b> Question 1 [50pts] <b> </div>\n",
    "**1.1** Plot the first row of the `X_train` training data and visually verify that it is a sinusoidal curve.\n",
    "\n",
    "**1.2** The first row of the `y_train` data is $[0.024, 0.533, 0.018, 0.558]$. Visually or numerically verify that the first row of X_train is 1000 equally-spaced samples in $[0,10\\pi]$ from the function $f(x) = 0.24\\sin(0.533\\,x) + 0.018\\cos(0.558\\,x)$. This pattern (y_train is the true parameters of the curve in X_train) will always hold.\n",
    "\n",
    "**1.3** Use `Sequential` and `Dense` from Keras to build a fully-connected neural network. You can choose any number of layers and any number of nodes in each layer. \n",
    "\n",
    "**1.4** Compile your model via the line `model.compile(loss='mean_absolute_error', optimizer='adam')` and display the `.summary()`. Explain why the first layer in your network has the indicated number of parameters.\n",
    "\n",
    "**1.5** Fit your model to the data for 50 epochs using a batch size of 32 and a validation split of 0.2. You can train for longer if you wish- the fit tends to improve over time.\n",
    "\n",
    "**1.6** Use the `plot_predictions` function to plot the model's predictions on `X_test` to the true values in `y_test` (by default, it will only plot the first few rows). Report the model's overall loss on the test set. Comment on how well the model performs on this unseen data. Do you think it has accurately learned how to map from sample data to the coefficients that generated the data?\n",
    "\n",
    "**1.7** Examine the model's performance on the 9 train/test pairs in the `extended_test` variables. Which examples does the model do well on, and which examples does it struggle with?\n",
    "\n",
    "**1.8** Is there something that stands out about the difficult examples, especially with respect to the data the model was trained on? Did the model learn the mapping we had in mind? Would you say the model is overfit, underfit, or neither?\n",
    "\n",
    "**Hint**:\n",
    "- Keras's documentation and examples of a Sequential model are a good place to start.\n",
    "- A strong model can achieve validation error of around 0.03 on this data and 0.02 is very good."
   ]
  },
  {
   "cell_type": "code",
   "execution_count": 3,
   "metadata": {},
   "outputs": [],
   "source": [
    "def plot_predictions(model, test_x, test_y, count=None):\n",
    "    # Model - a Keras or SKlearn model that takes in (n,1000) training data and predicts (n,4) output data\n",
    "    # test_x - a (n,1000) input dataset\n",
    "    # test_y - a (n,4) output dataset\n",
    "    # This function will plot the sine curves in the training data and those implied by the model's predictions.\n",
    "    # It will also print the predicted and actual output values.\n",
    "    \n",
    "    #helper function that takes the n by 4 output and reverse-engineers \n",
    "    #the sine curves that output would create\n",
    "    def y2x(y_data):\n",
    "        #extract parameters\n",
    "        a=y_data[:,0].reshape(-1,1)\n",
    "        b=y_data[:,1].reshape(-1,1)\n",
    "        c=y_data[:,2].reshape(-1,1)\n",
    "        d=y_data[:,3].reshape(-1,1)\n",
    "\n",
    "        #build the matching training data\n",
    "        x_points = np.linspace(0,10*np.pi,1000)\n",
    "        x_data = a*np.sin(np.outer(b,x_points)) + c*np.cos(np.outer(d,x_points))\n",
    "        return x_data\n",
    "    \n",
    "    #if <20 examples, plot all. If more, just plot 5\n",
    "    if count==None:\n",
    "        if test_x.shape[0]>20:\n",
    "            count=5\n",
    "        else:\n",
    "            count=test_x.shape[0]\n",
    "    \n",
    "    #build predictions\n",
    "    predicted = model.predict(test_x)\n",
    "    implied_x = y2x(predicted)\n",
    "    for i in range(count):\n",
    "        plt.plot(test_x[i,:],label='true')\n",
    "        plt.plot(implied_x[i,:],label='predicted')\n",
    "        plt.legend()\n",
    "        plt.ylim(-2.1,2.1)\n",
    "        plt.xlabel(\"x value\")\n",
    "        plt.xlabel(\"y value\")\n",
    "        plt.title(\"Curves using the Neural Network's Approximate Fourier Transform\")\n",
    "        plt.show()\n",
    "        print(\"true:\", test_y[i,:])\n",
    "        print(\"predicted:\", predicted[i,:])\n",
    "    \n",
    "    "
   ]
  },
  {
   "cell_type": "code",
   "execution_count": 4,
   "metadata": {},
   "outputs": [],
   "source": [
    "X_train = np.load('data/sinewaves_X_train.npy')\n",
    "y_train = np.load('data/sinewaves_y_train.npy')\n",
    "\n",
    "X_test = np.load('data/sinewaves_X_test.npy')\n",
    "y_test = np.load('data/sinewaves_y_test.npy')\n",
    "\n",
    "X_extended_test = np.load('data/sinewaves_X_extended_test.npy')\n",
    "y_extended_test = np.load('data/sinewaves_y_extended_test.npy')"
   ]
  },
  {
   "cell_type": "markdown",
   "metadata": {},
   "source": [
    "### Answers:  \n",
    "\n",
    "**1.1** Plot the first row of the `X_train` training data and visually verify that it is a sinusoidal curve"
   ]
  },
  {
   "cell_type": "code",
   "execution_count": 5,
   "metadata": {},
   "outputs": [],
   "source": [
    "# your code here"
   ]
  },
  {
   "cell_type": "markdown",
   "metadata": {},
   "source": [
    "**1.2** The first row of the `y_train` data is $[0.024, 0.533, 0.018, 0.558]$. Visually or numerically verify that the first row of X_train is 1000 equally-spaced points in $[0,10\\pi]$ from the function $f(x) = 0.24\\sin(0.533\\,x) + 0.018\\cos(0.558\\,x)$..."
   ]
  },
  {
   "cell_type": "code",
   "execution_count": 6,
   "metadata": {
    "scrolled": true
   },
   "outputs": [],
   "source": [
    "# your code here"
   ]
  },
  {
   "cell_type": "markdown",
   "metadata": {},
   "source": [
    "**1.3** Use `Sequential` and `Dense` from Keras to build a fully-connected neural network. You can choose any number of layers and any number of nodes in each layer. "
   ]
  },
  {
   "cell_type": "code",
   "execution_count": 7,
   "metadata": {},
   "outputs": [],
   "source": [
    "# your code here"
   ]
  },
  {
   "cell_type": "markdown",
   "metadata": {},
   "source": [
    "**1.4** Compile your model via the line `model.compile(loss='mean_absolute_error', optimizer='adam')` and display the `.summary()`. Explain why the first layer in your network has the indicated number of parameters."
   ]
  },
  {
   "cell_type": "code",
   "execution_count": 8,
   "metadata": {},
   "outputs": [],
   "source": [
    "# your code here"
   ]
  },
  {
   "cell_type": "markdown",
   "metadata": {},
   "source": [
    "----\n",
    "Your answer here\n",
    "\n",
    "----"
   ]
  },
  {
   "cell_type": "markdown",
   "metadata": {},
   "source": [
    "**1.5** Fit your model to the data for 50 epochs using a batch size of 32 and a validation split of .2. You can train for longer if you wish- the fit tends to improve over time."
   ]
  },
  {
   "cell_type": "code",
   "execution_count": 9,
   "metadata": {
    "scrolled": true
   },
   "outputs": [],
   "source": [
    "# your code here"
   ]
  },
  {
   "cell_type": "markdown",
   "metadata": {},
   "source": [
    "**1.6** Use the `plot_predictions` function to plot the model's predictions on `X-test` to the true values in `y_test` (by default, it will only plot the first few rows). Report the model's overall loss on the test set. Comment on how well the model performs on this unseen data. Do you think it has accurately learned how to map from sample data to the coefecients that generated the data?"
   ]
  },
  {
   "cell_type": "code",
   "execution_count": 10,
   "metadata": {},
   "outputs": [],
   "source": [
    "# your code here"
   ]
  },
  {
   "cell_type": "markdown",
   "metadata": {},
   "source": [
    "----\n",
    "Your answer here\n",
    "\n",
    "----"
   ]
  },
  {
   "cell_type": "markdown",
   "metadata": {},
   "source": [
    "**1.7** Examine the model's performance on the 9 train/test pairs in the `extended_test` variables. Which examples does the model do well on, and which examples does it struggle with?"
   ]
  },
  {
   "cell_type": "code",
   "execution_count": 11,
   "metadata": {
    "scrolled": false
   },
   "outputs": [],
   "source": [
    "# your code here"
   ]
  },
  {
   "cell_type": "markdown",
   "metadata": {},
   "source": [
    "----\n",
    "Your answer here\n",
    "\n",
    "----"
   ]
  },
  {
   "cell_type": "markdown",
   "metadata": {},
   "source": [
    "**1.8** Is there something that stands out about the difficult observations, especially with respect to the data the model was trained on? Did the model learn the mapping we had in mind? Would you say the model is overfit, underfit, or neither?"
   ]
  },
  {
   "cell_type": "markdown",
   "metadata": {},
   "source": [
    "----\n",
    "Your answer here\n",
    "\n",
    "----"
   ]
  },
  {
   "cell_type": "markdown",
   "metadata": {
    "collapsed": true
   },
   "source": [
    "<hr style='height:2pt'>\n",
    "\n",
    "## Neural Networks ... the good, the bad, and the ugly\n",
    "\n",
    "In this problem set we have already explored how ANN are able to learn a mapping from example input data (of fixed size) to example output data (of fixed size), and additionally we also partially explore what patterns the neural network learns and how well they generalize. Now, in this problem we will work towards developing an Artificial Neural Network Classifier for image recognition. Our goal is to delve into exploring the good, the bad and the ugly of ANNs. \n",
    "\n",
    "As we have explained in class, an issue present during ANN learning is overfitting, where we have small training errors and as test data and new data is handed to the neural network the error is large. This is the classic overfitting situation where, in this case the ANN has been able to learn in specificity the patterns present in the training data, however it is unable to learn as to how to generalize that same learning to new data.    \n",
    "\n",
    "There are several methods used to improve ANN generalization. One approach is to concentrate in goodness of fit by devising an ANN architecture that is just large enough width-wise and depth-wise to yield an efficient fit. The point to consider here is that the larger the network, the higher level of complexity is thereby introduced into the network as the ANN can create more complex functions. Thus, with a smaller network, the lesser level of complexity that is introduced into the modeling and learning procedure.\n",
    "\n",
    "However, it is not straightforward and difficult to know a priori the size of the ANN. Given this, other methodologies are used to fight overfitting and improve the ANN pattern-generalization ability, which fall under the umbrella of Regularization.\n",
    "\n",
    "As covered in lecture, Regularization is any modification we make to a learning algorithm that is strictly oriented to reduce the generalization error but not the training error.\n",
    "\n",
    "In this problem you are asked to regularize a network given to you below. The train dataset can be generated using the code also given below. \n",
    "\n",
    "\n",
    "> Caveat: \n",
    "This is a toy model designed such as fitting is quick. Certain choises are certainly not best practices but for the sake of simplicity and being able to complete the homework in reasonable time we made some compromises/ \n",
    "1. We use sigmoid as the activation function. Though we advised you not to use sigmoid, in this homework we ask you to use the sigmoid activation function. ReLU is a better choice for deeper netwroks but here sigmoid works faster and it is more stable for this small dataset.  \n",
    " \n"
   ]
  },
  {
   "cell_type": "markdown",
   "metadata": {},
   "source": [
    "\n",
    "<div class='exercise'> <b> Question 2 [50 pts] </b> </div>\n",
    "\n",
    "\n",
    "**2.1** ** Data Download and Exploration**:  For this problem, we will be working with the MNIST dataset (Modified National Institute of Standards and Technology database) which is a large database of handwritten digits and commonly used for training various image processing systems. We will be working directly with the download from `keras MNIST dataset` of 60,000 28x28 grayscale images of the 10 digits, along with a test set of 10,000 images.\n",
    "\n",
    "\n",
    "Please refer to the `keras` documentation and download the MNIST dataset for usage and pay close attention to the data structure it returns. \n",
    "\n",
    "For pedagogical reasons, we will only use the digits labeled `4` and `9`, and we want to use a total of 800 samples for training. \n",
    "\n",
    "Create this binary class problem."
   ]
  },
  {
   "cell_type": "markdown",
   "metadata": {},
   "source": [
    "**2.2 Overfit an ANN:** Build a fully connected network (FCN) using `keras`: \n",
    "\n",
    "1. Number of layers: 1\n",
    "2. Number of nodes per layer: 500 \n",
    "3. Activation function: Sigmoid (yes sigmoid) \n",
    "4. Loss function: binary_crossentropy\n",
    "5. Output unit: Sigmoid \n",
    "6. Optimizer: sgd\n",
    "7. Epochs: 500\n",
    "8. Batch size: 128\n",
    "\n",
    "This NN trained on the dataset you built in 2.1 will overfit to the training set. Plot the training accuracy and validation accuracy as a function of epochs and confirm that it overfits. "
   ]
  },
  {
   "cell_type": "markdown",
   "metadata": {},
   "source": [
    "**2.3 Explore Regularization**: Your task is to regularized this FCN. You are free to explore any method or combination of methods. If you are using anything besides the methods we have covered in class, give a citation and a short explanation. You should always have an understanding of the methods you are using. \n",
    "\n",
    "Save the model using `model.save(filename)` and submit in canvas along with your notebook. \n",
    "\n",
    "We will evaluate your model on a test set we kept secret. \n",
    "\n",
    "1. Do not use extra data from NMIST. We will run your notebook and validate your model on the training set. \n",
    "2. Keep the  architecture above as is. In other words keep the number of layers, number of nodes, activation function , loss fucntion the same. You can change the number of epochs, batch size, optimizer and of course add elements that can help to regularize (e.g. drop out, L2 norm etc). You can also do data augmentation. \n",
    "\n",
    "\n",
    "Improvement on the test score:\n",
    "1.  (0-1] percent will result into 10 pts\n",
    "2.  (1-2] percent will result into 20 pts\n",
    "3.  (2-3] percent will result into 30 pts\n",
    "4.  (3 and above percent will result in 40 pts\n",
    "6.   Top 15 groups or single students will be awarded  an additional 5 pts\n",
    "7.   Winner(s) will be awarded an additional point 10 pts"
   ]
  },
  {
   "cell_type": "markdown",
   "metadata": {},
   "source": [
    "**2.1** ** Data Download and Exploration**:  For this problem, we will be working with the MNIST dataset (Modified National Institute of Standards and Technology database) which is a large database of handwritten digits and commonly used for training various image processing systems. We will be working directly with the download from `keras MNIST dataset` of 60,000 28x28 grayscale images of the 10 digits, along with a test set of 10,000 images.\n",
    "\n",
    "\n",
    "Please refer to the `keras` documentation and download the MNIST dataset for usage and pay close attention to the data structure it returns. \n",
    "\n",
    "For pedagogical reasons, we will only use the digits labeled `4` and `9`, and we want to learn the ANN with a total of 800 samples and we will use 800 for test set. Now make sure you make this a binary class problem."
   ]
  },
  {
   "cell_type": "code",
   "execution_count": 71,
   "metadata": {},
   "outputs": [],
   "source": [
    "# SHALL WE GIVE THEM THIS? \n",
    "\n",
    "## Read and Setup train and test splits in one\n",
    "from keras.datasets import mnist \n",
    "from random import randint \n",
    "\n",
    "(x_train, y_train), (x_test, y_test) = mnist.load_data() \n",
    "\n",
    "#shuffle the data before we do anything\n",
    "x_train, y_train = shuffle(x_train, y_train, random_state=1)\n",
    "\n",
    "## Making a copy before flattening \n",
    "x_train_drawing = x_train\n",
    "y_train_or = y_train\n",
    "\n",
    "\n",
    "## separating 4s and 9s\n",
    "class1 = 4\n",
    "class2 = 9\n",
    "idx_tr  = (y_train == class1) | (y_train==class2)\n",
    "idx_te  = (y_test == class1) | (y_test==class2)\n",
    "\n",
    "## building the train and test set needed by 4s and 9s\n",
    "\n",
    "x_train= x_train[idx_tr, :, :]\n",
    "x_test= x_test[idx_te, :, :] \n",
    "y_train= y_train[idx_tr]\n",
    "y_test= y_test[idx_te] \n",
    "\n",
    "\n",
    "## randomly select 800 points \n",
    "n_train = 800\n",
    "n_test = 800 \n",
    "\n",
    "x_train= x_train[:n_train, :, :]\n",
    "x_test= x_test[:n_test, :, :]\n",
    "y_train= y_train[:n_train]\n",
    "y_test= y_test[:n_test]\n",
    "\n",
    "\n",
    "## making it a binary class problem\n",
    "y_train[y_train==class1] = 0 \n",
    "y_train[y_train==class2] = 1\n",
    "y_test[y_test==class1] = 0 \n",
    "y_test[y_test==class2] = 1 \n",
    "\n",
    "\n"
   ]
  },
  {
   "cell_type": "markdown",
   "metadata": {},
   "source": [
    "**2.2** Now that we have downloaded the images and split our training and test datasets, and created the simple binary dataset, we still need to preprocess the images in order to use them. Preprocessing needs to be performed on the feature space and the labels (response) independently. "
   ]
  },
  {
   "cell_type": "code",
   "execution_count": 72,
   "metadata": {},
   "outputs": [],
   "source": [
    "# your code here\n",
    "\n",
    "\n",
    "num_classes = 2 \n",
    "\n",
    "## flatten images\n",
    "image_size = 784 # 28 x 28\n",
    "x_train = x_train.reshape(x_train.shape[0], image_size) \n",
    "x_test = x_test.reshape(x_test.shape[0], image_size)\n",
    "\n",
    "## Convertion class vectors ---> binary class matrices\n",
    "y_train = keras.utils.to_categorical(y_train, num_classes)\n",
    "y_test = keras.utils.to_categorical(y_test, num_classes)\n"
   ]
  },
  {
   "cell_type": "code",
   "execution_count": 77,
   "metadata": {},
   "outputs": [],
   "source": [
    "x_train = ((x_train-x_train.mean(axis=1).reshape(-1,1))/(x_train.std(axis=1).reshape(-1,1)))\n",
    "x_test = ((x_test-x_test.mean(axis=1).reshape(-1,1))/(x_test.std(axis=1).reshape(-1,1)))"
   ]
  },
  {
   "cell_type": "markdown",
   "metadata": {},
   "source": [
    "**2.3** Look at the data randomly, and perform any other sanity checks you deem necessary. "
   ]
  },
  {
   "cell_type": "code",
   "execution_count": 78,
   "metadata": {},
   "outputs": [
    {
     "data": {
      "image/png": "[encoded data removed]",
      "text/plain": [
       "<matplotlib.figure.Figure at 0x1a34667d68>"
      ]
     },
     "metadata": {},
     "output_type": "display_data"
    },
    {
     "data": {
      "text/plain": [
       "<matplotlib.image.AxesImage at 0x1a36bb5160>"
      ]
     },
     "execution_count": 78,
     "metadata": {},
     "output_type": "execute_result"
    },
    {
     "data": {
      "image/png": "[encoded data removed]",
      "text/plain": [
       "<matplotlib.figure.Figure at 0x1a36644fd0>"
      ]
     },
     "metadata": {},
     "output_type": "display_data"
    }
   ],
   "source": [
    "# your code here\n",
    "\n",
    "x_train.shape, x_test.shape, y_train.shape, y_test.shape\n",
    "\n",
    "plt.axis('off')\n",
    "plt.imshow(x_train.reshape(-1, 28,28)[2], cmap='Greys')\n",
    "plt.show()\n",
    "plt.axis('off')\n",
    "plt.imshow(x_train.reshape(-1, 28,28)[1], cmap='Greys')"
   ]
  },
  {
   "cell_type": "markdown",
   "metadata": {},
   "source": [
    "**2.4 Overfit an ANN:** For this portion of the problem we want you to create a network using `keras` that overfits this dataset. Follow the explanation in the initial problem statement, and make sure the network OVERFITS. Explain what you see in your network output.\n",
    "\n",
    "Hint: \n",
    "1. We use n_layes>=2, n_nodes>=100, activation = reLU \n",
    "2. Use 0.5 validation split to ensure your validation and train difference is well established \n",
    "\n",
    "\n"
   ]
  },
  {
   "cell_type": "code",
   "execution_count": 96,
   "metadata": {},
   "outputs": [],
   "source": [
    "# your code here\n",
    "\n",
    "batch_size = 32\n",
    "epochs = 100\n",
    "\n",
    "num_classes = 2 \n",
    "\n",
    "nodes_layers =[100,100,100] \n",
    "\n",
    "#reset the model \n",
    "model = Sequential()\n",
    "\n",
    "# input layers \n",
    "model.add(Dense(nodes_layers[0], activation='relu', input_shape=(784,)))\n",
    "\n",
    "# hidden layers \n",
    "for s in nodes_layers[1:]:\n",
    "        model.add(Dense(units = s,  activation = 'relu'))\n",
    "\n",
    "# output layer \n",
    "model.add(Dense(units=num_classes,  activation='sigmoid'))\n",
    "\n",
    "\n",
    "# Summary \n",
    "#model.summary()\n",
    "\n",
    "# compile it \n",
    "model.compile(optimizer='sgd', loss='binary_crossentropy', metrics=['acc'])\n",
    "\n",
    "# fit it \n",
    "\n",
    "history_basic = model.fit(x_train, y_train, batch_size=batch_size, epochs=epochs,  validation_split=.5, verbose=False)#False\n",
    "\n",
    "#save the model \n"
   ]
  },
  {
   "cell_type": "code",
   "execution_count": 108,
   "metadata": {},
   "outputs": [
    {
     "name": "stdout",
     "output_type": "stream",
     "text": [
      "800/800 [==============================] - 0s 56us/step\n"
     ]
    },
    {
     "data": {
      "text/plain": [
       "[3.9486803436279296, 0.94374999999999998]"
      ]
     },
     "execution_count": 108,
     "metadata": {},
     "output_type": "execute_result"
    },
    {
     "data": {
      "image/png": "[encoded data removed]",
      "text/plain": [
       "<matplotlib.figure.Figure at 0x1a22523198>"
      ]
     },
     "metadata": {},
     "output_type": "display_data"
    }
   ],
   "source": [
    "plt.plot(history_basic.history['acc'])\n",
    "plt.plot(history_basic.history['val_acc'])\n",
    "plt.grid()\n",
    "plt.ylim((0.9,1))\n",
    "model.evaluate(x_test, y_test)"
   ]
  },
  {
   "cell_type": "markdown",
   "metadata": {},
   "source": [
    "<hr>\n",
    "\n",
    "Your answer here\n",
    "\n",
    "<hr>"
   ]
  },
  {
   "cell_type": "code",
   "execution_count": 118,
   "metadata": {},
   "outputs": [],
   "source": [
    "# your code here\n",
    "\n",
    "### L2 and L1 \n",
    "\n",
    "eta = 0.07\n",
    "\n",
    "#reset the model \n",
    "model = Sequential()\n",
    "\n",
    "# input layers \n",
    "model.add(Dense(nodes_layers[0], activation='relu', input_shape=(784,), kernel_regularizer=regularizers.l2(eta)))\n",
    "\n",
    "# hidden layers \n",
    "for s in nodes_layers[1:]:\n",
    "        model.add(Dense(units = s,  activation = 'relu', kernel_regularizer=regularizers.l2(eta)))\n",
    "\n",
    "# output layer \n",
    "model.add(Dense(units=num_classes,  activation='sigmoid'))\n",
    "\n",
    "\n",
    "# Summary \n",
    "#model.summary()\n",
    "\n",
    "# compile it \n",
    "model.compile(optimizer='sgd', loss='binary_crossentropy', metrics=['accuracy'])\n",
    "\n",
    "# fit it \n",
    "\n",
    "history_l2 = model.fit(x_train, y_train, batch_size=batch_size, epochs=epochs,  validation_split=.5, verbose=False)#False\n",
    "\n"
   ]
  },
  {
   "cell_type": "code",
   "execution_count": 117,
   "metadata": {},
   "outputs": [
    {
     "name": "stdout",
     "output_type": "stream",
     "text": [
      "800/800 [==============================] - 0s 45us/step\n"
     ]
    },
    {
     "data": {
      "text/plain": [
       "[1.9982918739318847, 0.953125]"
      ]
     },
     "execution_count": 117,
     "metadata": {},
     "output_type": "execute_result"
    },
    {
     "data": {
      "image/png": "[encoded data removed]",
      "text/plain": [
       "<matplotlib.figure.Figure at 0x1a22e3a7b8>"
      ]
     },
     "metadata": {},
     "output_type": "display_data"
    }
   ],
   "source": [
    "plt.plot(history_basic.history['acc'], 'r-')\n",
    "plt.plot(history_basic.history['val_acc'], 'r-.')\n",
    "\n",
    "plt.plot(history_l2.history['acc'], 'b-')\n",
    "plt.plot(history_l2.history['val_acc'], 'b-.')\n",
    "plt.ylim((0.9, 1))\n",
    "plt.grid()\n",
    "\n",
    "model.evaluate(x_test, y_test)"
   ]
  },
  {
   "cell_type": "code",
   "execution_count": 100,
   "metadata": {},
   "outputs": [],
   "source": [
    "# your code here\n",
    "\n",
    "### Early stopping\n",
    "\n",
    "earlyStopping = keras.callbacks.EarlyStopping(monitor='val_loss', min_delta=0, \n",
    "                                              patience=0, verbose=0, mode='auto')\n",
    "\n",
    "\n",
    "\n",
    "\n",
    "#reset the model \n",
    "model = Sequential()\n",
    "\n",
    "# input layers \n",
    "model.add(Dense(nodes_layers[0], activation='relu', input_shape=(784,)))\n",
    "\n",
    "# hidden layers \n",
    "for s in nodes_layers[1:]:\n",
    "        model.add(Dense(units = s,  activation = 'relu'))\n",
    "\n",
    "\n",
    "# output layer \n",
    "model.add(Dense(units=num_classes,  activation='sigmoid'))\n",
    "\n",
    "\n",
    "# Summary \n",
    "#model.summary()\n",
    "\n",
    "# compile it \n",
    "model.compile(optimizer='sgd', loss='binary_crossentropy', metrics=['accuracy'])\n",
    "\n",
    "# fit it \n",
    "\n",
    "history_es = model.fit(x_train, y_train, batch_size=batch_size, callbacks=[earlyStopping], epochs=epochs,  validation_split=.5, verbose=False)#False\n",
    "\n"
   ]
  },
  {
   "cell_type": "code",
   "execution_count": 103,
   "metadata": {},
   "outputs": [
    {
     "data": {
      "text/plain": [
       "[<matplotlib.lines.Line2D at 0x1a21f01da0>]"
      ]
     },
     "execution_count": 103,
     "metadata": {},
     "output_type": "execute_result"
    },
    {
     "data": {
      "image/png": "[encoded data removed]",
      "text/plain": [
       "<matplotlib.figure.Figure at 0x1a21e9d780>"
      ]
     },
     "metadata": {},
     "output_type": "display_data"
    }
   ],
   "source": [
    "plt.plot(history_basic.history['acc'], 'r-')\n",
    "plt.plot(history_basic.history['val_acc'], 'r-.')\n",
    "\n",
    "plt.ylim((0.9, 1))\n",
    "plt.plot(history_es.history['acc'], 'b-')\n",
    "plt.plot(history_es.history['val_acc'], 'b-.')"
   ]
  },
  {
   "cell_type": "code",
   "execution_count": null,
   "metadata": {},
   "outputs": [],
   "source": []
  },
  {
   "cell_type": "code",
   "execution_count": null,
   "metadata": {},
   "outputs": [],
   "source": []
  },
  {
   "cell_type": "code",
   "execution_count": null,
   "metadata": {},
   "outputs": [],
   "source": []
  }
 ],
 "metadata": {
  "anaconda-cloud": {},
  "kernelspec": {
   "display_name": "Python 3",
   "language": "python",
   "name": "python3"
  },
  "language_info": {
   "codemirror_mode": {
    "name": "ipython",
    "version": 3
   },
   "file_extension": ".py",
   "mimetype": "text/x-python",
   "name": "python",
   "nbconvert_exporter": "python",
   "pygments_lexer": "ipython3",
   "version": "3.6.3"
  },
  "latex_envs": {
   "bibliofile": "biblio.bib",
   "cite_by": "apalike",
   "current_citInitial": 1,
   "eqLabelWithNumbers": true,
   "eqNumInitial": 0
  }
 },
 "nbformat": 4,
 "nbformat_minor": 1
}
